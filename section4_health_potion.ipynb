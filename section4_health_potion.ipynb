{
  "nbformat": 4,
  "nbformat_minor": 0,
  "metadata": {
    "colab": {
      "name": "section4-health_potion.ipynb",
      "provenance": [],
      "collapsed_sections": [],
      "authorship_tag": "ABX9TyMdVXfXZoMDX/3TEEb91U2L"
    },
    "kernelspec": {
      "name": "python3",
      "display_name": "Python 3"
    },
    "language_info": {
      "name": "python"
    }
  },
  "cells": [
    {
      "cell_type": "markdown",
      "metadata": {
        "id": "xb8YMoz11_I-"
      },
      "source": [
        "# <font color= green>**1. CASE** </font>"
      ]
    },
    {
      "cell_type": "markdown",
      "metadata": {
        "id": "cw1NOiWfz0BP"
      },
      "source": [
        "So this scenario is we have a character who has some health. Let's say he has 45 points.\n",
        "\n",
        "Imagine that this character has walked over a health potion and the health potion magically increases their health by a random amount.\n",
        "\n",
        "The game also has three difficulty settings easy medium and hard depending on what difficulty is selected. The amount of health that the person gets from the potion will change and this will be less on higher difficulties."
      ]
    },
    {
      "cell_type": "markdown",
      "metadata": {
        "id": "gVAEsWa42sck"
      },
      "source": [
        "# <font color = green> **2. SOLUTION PROPOSE** </font>"
      ]
    },
    {
      "cell_type": "code",
      "metadata": {
        "id": "0M7EalIWg9su",
        "colab": {
          "base_uri": "https://localhost:8080/"
        },
        "outputId": "2412c1bc-bab9-4300-bb0a-63524ba342e5"
      },
      "source": [
        "import random\n",
        "\n",
        "health = 50\n",
        "difficulty = 1\n",
        "potion_health = int( random.randint(25,50) / difficulty )\n",
        "\n",
        "health = health + potion_health\n",
        "print( health )\n"
      ],
      "execution_count": null,
      "outputs": [
        {
          "output_type": "stream",
          "name": "stdout",
          "text": [
            "86\n"
          ]
        }
      ]
    },
    {
      "cell_type": "markdown",
      "metadata": {
        "id": "fg-ri0c46nm3"
      },
      "source": [
        "# <font color = green> **3. ELABORATE SOLUTION** </font>"
      ]
    },
    {
      "cell_type": "code",
      "metadata": {
        "colab": {
          "base_uri": "https://localhost:8080/"
        },
        "id": "KNL-kM0u6VhV",
        "outputId": "00ec0a30-65f9-4c08-db2f-ca2f09b3c8b9"
      },
      "source": [
        "import random\n",
        "\n",
        "health = random.randint( 1,100 )\n",
        "difficulty = int( input( \"Select difficulty game: 1 for easy, 2 for medium or 3 for hard: \") )\n",
        "\n",
        "if difficulty == 1: \n",
        "  print( \"You select easy mode\")\n",
        "elif difficulty == 2:\n",
        "  print( \"You select medium mode\")\n",
        "else:\n",
        "  print( \"You select hard mode\")\n",
        "\n",
        "\n",
        "potion_health = int( random.randint(25,50) / difficulty )\n",
        "health_end = health + potion_health\n",
        "\n",
        "print('\\nLets game!!\\n')\n",
        "print(f'You started game with {health} health.')\n",
        "print(f'You wined {potion_health} points of health potion.\\n')\n",
        "print(f'You finished game with {health_end} points.')\n",
        "\n"
      ],
      "execution_count": null,
      "outputs": [
        {
          "output_type": "stream",
          "name": "stdout",
          "text": [
            "Select difficulty game: 1 for easy, 2 for medium or 3 for hard: 1\n",
            "You select easy mode\n",
            "\n",
            "Lets game!!\n",
            "\n",
            "You started game with 95 health.\n",
            "You wined 33 points of health potion.\n",
            "\n",
            "You finished game with 128 points.\n"
          ]
        }
      ]
    }
  ]
}